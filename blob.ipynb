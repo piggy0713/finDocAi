{
 "cells": [
  {
   "cell_type": "code",
   "execution_count": null,
   "metadata": {},
   "outputs": [],
   "source": [
    "import os\n",
    "from dotenv import load_dotenv\n",
    "\n",
    "\n",
    "OPENAI_API_TYPE= \"Azure\"\n",
    "OPENAI_API_VERSION= \"2023-05-15\"\n",
    "DEPLOYMENT_NAME=\"text-embedding-3-small\"\n",
    "OPENAI_API_BASE=os.getenv(\"AZURE_OPENAI_API_BASE\")\n",
    "OPENAI_API_KEY=os.getenv(\"AZURE_OPENAI_API_KEY\")\n"
   ]
  }
 ],
 "metadata": {
  "kernelspec": {
   "display_name": "Python 3",
   "language": "python",
   "name": "python3"
  },
  "language_info": {
   "name": "python",
   "version": "3.9.6"
  }
 },
 "nbformat": 4,
 "nbformat_minor": 2
}
